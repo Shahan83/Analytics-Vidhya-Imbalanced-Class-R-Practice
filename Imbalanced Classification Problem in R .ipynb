{
 "cells": [
  {
   "cell_type": "markdown",
   "metadata": {},
   "source": [
    "https://www.analyticsvidhya.com/blog/2016/03/practical-guide-deal-imbalanced-classification-problems/"
   ]
  },
  {
   "cell_type": "code",
   "execution_count": 1,
   "metadata": {
    "collapsed": false
   },
   "outputs": [
    {
     "name": "stderr",
     "output_type": "stream",
     "text": [
      "Installing package into ‘/home/shahan/R/x86_64-pc-linux-gnu-library/3.3’\n",
      "(as ‘lib’ is unspecified)\n"
     ]
    }
   ],
   "source": [
    "install.packages(\"ROSE\")"
   ]
  },
  {
   "cell_type": "code",
   "execution_count": 2,
   "metadata": {
    "collapsed": false
   },
   "outputs": [
    {
     "name": "stderr",
     "output_type": "stream",
     "text": [
      "Loaded ROSE 0.0-3\n",
      "\n"
     ]
    }
   ],
   "source": [
    "library(ROSE)"
   ]
  },
  {
   "cell_type": "code",
   "execution_count": 3,
   "metadata": {
    "collapsed": true
   },
   "outputs": [],
   "source": [
    "data(hacide)"
   ]
  },
  {
   "cell_type": "code",
   "execution_count": 5,
   "metadata": {
    "collapsed": false
   },
   "outputs": [
    {
     "name": "stdout",
     "output_type": "stream",
     "text": [
      "'data.frame':\t1000 obs. of  3 variables:\n",
      " $ cls: Factor w/ 2 levels \"0\",\"1\": 1 1 1 1 1 1 1 1 1 1 ...\n",
      " $ x1 : num  0.2008 0.0166 0.2287 0.1264 0.6008 ...\n",
      " $ x2 : num  0.678 1.5766 -0.5595 -0.0938 -0.2984 ...\n"
     ]
    }
   ],
   "source": [
    "str(hacide.train)"
   ]
  },
  {
   "cell_type": "code",
   "execution_count": 6,
   "metadata": {
    "collapsed": false
   },
   "outputs": [
    {
     "name": "stderr",
     "output_type": "stream",
     "text": [
      "Loading required package: Hmisc\n",
      "Loading required package: lattice\n",
      "Loading required package: survival\n",
      "Loading required package: Formula\n",
      "Loading required package: ggplot2\n",
      "\n",
      "Attaching package: ‘Hmisc’\n",
      "\n",
      "The following objects are masked from ‘package:base’:\n",
      "\n",
      "    format.pval, round.POSIXt, trunc.POSIXt, units\n",
      "\n",
      "funModeling v.1.5 :)\n",
      "Documentation at livebook.datascienceheroes.com\n",
      "\n"
     ]
    }
   ],
   "source": [
    "library(funModeling)"
   ]
  },
  {
   "cell_type": "code",
   "execution_count": 7,
   "metadata": {
    "collapsed": false
   },
   "outputs": [
    {
     "name": "stdout",
     "output_type": "stream",
     "text": [
      "  variable q_zeros p_zeros q_na p_na q_inf p_inf    type unique\n",
      "1      cls     980      98    0    0     0     0  factor      2\n",
      "2       x1       0       0    0    0     0     0 numeric   1000\n",
      "3       x2       0       0    0    0     0     0 numeric   1000\n"
     ]
    }
   ],
   "source": [
    "df_status(hacide.train)"
   ]
  },
  {
   "cell_type": "code",
   "execution_count": 10,
   "metadata": {
    "collapsed": false
   },
   "outputs": [
    {
     "data": {
      "text/plain": [
       "\n",
       "   0    1 \n",
       "0.98 0.02 "
      ]
     },
     "metadata": {},
     "output_type": "display_data"
    }
   ],
   "source": [
    "prop.table(table(hacide.train$cls))"
   ]
  },
  {
   "cell_type": "markdown",
   "metadata": {},
   "source": [
    "Only 2% of class variable is categorised as 1, hence a case of class imbalance."
   ]
  },
  {
   "cell_type": "markdown",
   "metadata": {},
   "source": [
    "Building a model without taking into account the class imbalance"
   ]
  },
  {
   "cell_type": "code",
   "execution_count": 13,
   "metadata": {
    "collapsed": false
   },
   "outputs": [
    {
     "name": "stderr",
     "output_type": "stream",
     "text": [
      "\n",
      "Attaching package: ‘e1071’\n",
      "\n",
      "The following object is masked from ‘package:Hmisc’:\n",
      "\n",
      "    impute\n",
      "\n"
     ]
    }
   ],
   "source": [
    "library(rpart)\n",
    "library(e1071)"
   ]
  },
  {
   "cell_type": "code",
   "execution_count": 19,
   "metadata": {
    "collapsed": false
   },
   "outputs": [],
   "source": [
    "treeimb <- tune.rpart(cls~., data=hacide.train, minsplit=c(5,200,5), minbucket=c(5,200,5),\n",
    "                     maxdepth = c(1,30,2))"
   ]
  },
  {
   "cell_type": "code",
   "execution_count": 20,
   "metadata": {
    "collapsed": false
   },
   "outputs": [
    {
     "data": {
      "text/plain": [
       "\n",
       "Parameter tuning of ‘rpart.wrapper’:\n",
       "\n",
       "- sampling method: 10-fold cross validation \n",
       "\n",
       "- best parameters:\n",
       " minsplit minbucket maxdepth\n",
       "        5         5        1\n",
       "\n",
       "- best performance: 0.015 \n",
       "\n",
       "- Detailed performance results:\n",
       "   minsplit minbucket maxdepth error  dispersion\n",
       "1         5         5        1 0.015 0.012692955\n",
       "2       200         5        1 0.015 0.012692955\n",
       "3         5         5        1 0.015 0.012692955\n",
       "4         5       200        1 0.020 0.006666667\n",
       "5       200       200        1 0.020 0.006666667\n",
       "6         5       200        1 0.020 0.006666667\n",
       "7         5         5        1 0.015 0.012692955\n",
       "8       200         5        1 0.015 0.012692955\n",
       "9         5         5        1 0.015 0.012692955\n",
       "10        5         5       30 0.018 0.013165612\n",
       "11      200         5       30 0.016 0.012649111\n",
       "12        5         5       30 0.018 0.013165612\n",
       "13        5       200       30 0.020 0.006666667\n",
       "14      200       200       30 0.020 0.006666667\n",
       "15        5       200       30 0.020 0.006666667\n",
       "16        5         5       30 0.018 0.013165612\n",
       "17      200         5       30 0.016 0.012649111\n",
       "18        5         5       30 0.018 0.013165612\n",
       "19        5         5        2 0.016 0.012649111\n",
       "20      200         5        2 0.016 0.012649111\n",
       "21        5         5        2 0.016 0.012649111\n",
       "22        5       200        2 0.020 0.006666667\n",
       "23      200       200        2 0.020 0.006666667\n",
       "24        5       200        2 0.020 0.006666667\n",
       "25        5         5        2 0.016 0.012649111\n",
       "26      200         5        2 0.016 0.012649111\n",
       "27        5         5        2 0.016 0.012649111\n"
      ]
     },
     "metadata": {},
     "output_type": "display_data"
    }
   ],
   "source": [
    "summary(treeimb)"
   ]
  },
  {
   "cell_type": "code",
   "execution_count": 27,
   "metadata": {
    "collapsed": true
   },
   "outputs": [],
   "source": [
    "treeimb1 <- rpart(cls~., data=hacide.train, minsplit=5, minbucket=5, maxdepth = 1)"
   ]
  },
  {
   "cell_type": "code",
   "execution_count": 29,
   "metadata": {
    "collapsed": false
   },
   "outputs": [
    {
     "name": "stdout",
     "output_type": "stream",
     "text": [
      "Call:\n",
      "rpart(formula = cls ~ ., data = hacide.train, minsplit = 5, minbucket = 5, \n",
      "    maxdepth = 1)\n",
      "  n= 1000 \n",
      "\n",
      "    CP nsplit rel error xerror      xstd\n",
      "1 0.45      0      1.00    1.0 0.2213594\n",
      "2 0.01      1      0.55    0.7 0.1857687\n",
      "\n",
      "Variable importance\n",
      " x1 \n",
      "100 \n",
      "\n",
      "Node number 1: 1000 observations,    complexity param=0.45\n",
      "  predicted class=0  expected loss=0.02  P(node) =1\n",
      "    class counts:   980    20\n",
      "   probabilities: 0.980 0.020 \n",
      "  left son=2 (989 obs) right son=3 (11 obs)\n",
      "  Primary splits:\n",
      "      x1 < -1.495967 to the right, improve=17.584040, (0 missing)\n",
      "      x2 < -2.64782  to the right, improve= 4.287038, (0 missing)\n",
      "\n",
      "Node number 2: 989 observations\n",
      "  predicted class=0  expected loss=0.01011122  P(node) =0.989\n",
      "    class counts:   979    10\n",
      "   probabilities: 0.990 0.010 \n",
      "\n",
      "Node number 3: 11 observations\n",
      "  predicted class=1  expected loss=0.09090909  P(node) =0.011\n",
      "    class counts:     1    10\n",
      "   probabilities: 0.091 0.909 \n",
      "\n"
     ]
    }
   ],
   "source": [
    "summary(treeimb1)"
   ]
  },
  {
   "cell_type": "code",
   "execution_count": 30,
   "metadata": {
    "collapsed": false
   },
   "outputs": [],
   "source": [
    "pred.treeimb <- predict(treeimb1, newdata=hacide.test)"
   ]
  },
  {
   "cell_type": "markdown",
   "metadata": {},
   "source": [
    "Checking Accuracy using functions from the ROSE library"
   ]
  },
  {
   "cell_type": "code",
   "execution_count": 31,
   "metadata": {
    "collapsed": false
   },
   "outputs": [
    {
     "data": {
      "text/plain": [
       "\n",
       "Call: \n",
       "accuracy.meas(response = hacide.test$cls, predicted = pred.treeimb[, \n",
       "    2])\n",
       "\n",
       "Examples are labelled as positive when predicted is greater than 0.5 \n",
       "\n",
       "precision: 1.000\n",
       "recall: 0.200\n",
       "F: 0.167"
      ]
     },
     "metadata": {},
     "output_type": "display_data"
    }
   ],
   "source": [
    "accuracy.meas(response = hacide.test$cls, pred.treeimb[,2])"
   ]
  },
  {
   "cell_type": "markdown",
   "metadata": {},
   "source": [
    "Precision - 100% which is good. But it comes at a cost\n",
    "Recall is only 20%, hence only 20% of Postives were actually getting classified as Positive.\n",
    "\n",
    "As a result, F score is very low at 0.167."
   ]
  },
  {
   "cell_type": "code",
   "execution_count": 32,
   "metadata": {
    "collapsed": false
   },
   "outputs": [
    {
     "data": {
      "text/plain": [
       "Area under the curve (AUC): 0.600"
      ]
     },
     "metadata": {},
     "output_type": "display_data"
    },
    {
     "data": {
      "image/png": "[encoded data removed]",
      "text/plain": [
       "Plot with title “ROC curve”"
      ]
     },
     "metadata": {},
     "output_type": "display_data"
    }
   ],
   "source": [
    "roc.curve(hacide.test$cls, pred.treeimb[,2])"
   ]
  },
  {
   "cell_type": "markdown",
   "metadata": {},
   "source": [
    "AUC = 0.6. This is a low score. \n",
    "\n",
    "Lets try to remedy the situation by using over/under sampling"
   ]
  },
  {
   "cell_type": "code",
   "execution_count": 34,
   "metadata": {
    "collapsed": false
   },
   "outputs": [],
   "source": [
    "#Over sampling\n",
    "data_balanced_over <- ovun.sample(cls~., data = hacide.train, method = \"over\", N = 1960)$data"
   ]
  },
  {
   "cell_type": "code",
   "execution_count": 35,
   "metadata": {
    "collapsed": false
   },
   "outputs": [
    {
     "data": {
      "text/plain": [
       "\n",
       "  0   1 \n",
       "980 980 "
      ]
     },
     "metadata": {},
     "output_type": "display_data"
    }
   ],
   "source": [
    "table(data_balanced_over$cls)"
   ]
  },
  {
   "cell_type": "code",
   "execution_count": 36,
   "metadata": {
    "collapsed": true
   },
   "outputs": [],
   "source": [
    "#Under Sampling\n",
    "data_balanced_under <- ovun.sample(cls~., data=hacide.train, method = \"under\",\n",
    "                                   N = 40, seed = 1)$data"
   ]
  },
  {
   "cell_type": "code",
   "execution_count": 37,
   "metadata": {
    "collapsed": false
   },
   "outputs": [
    {
     "data": {
      "text/plain": [
       "\n",
       " 0  1 \n",
       "20 20 "
      ]
     },
     "metadata": {},
     "output_type": "display_data"
    }
   ],
   "source": [
    "table(data_balanced_under$cls)"
   ]
  },
  {
   "cell_type": "markdown",
   "metadata": {},
   "source": [
    "By undersampling we came down to only 20 samples, which is not sufficient to perfrom analysis"
   ]
  },
  {
   "cell_type": "code",
   "execution_count": 38,
   "metadata": {
    "collapsed": true
   },
   "outputs": [],
   "source": [
    "data_balanced_both <- ovun.sample(cls~., data=hacide.train, method = \"both\", p=0.5,\n",
    "                                 N = 1000, seed=1)$data #p is prob of +ve class"
   ]
  },
  {
   "cell_type": "code",
   "execution_count": 39,
   "metadata": {
    "collapsed": false
   },
   "outputs": [
    {
     "data": {
      "text/plain": [
       "\n",
       "  0   1 \n",
       "520 480 "
      ]
     },
     "metadata": {},
     "output_type": "display_data"
    }
   ],
   "source": [
    "table(data_balanced_both$cls)"
   ]
  },
  {
   "cell_type": "markdown",
   "metadata": {},
   "source": [
    "#### Generating Synthetic data from ROSE"
   ]
  },
  {
   "cell_type": "code",
   "execution_count": 40,
   "metadata": {
    "collapsed": true
   },
   "outputs": [],
   "source": [
    "data.rose <- ROSE(cls~., data=hacide.train, seed=1)$data"
   ]
  },
  {
   "cell_type": "code",
   "execution_count": 41,
   "metadata": {
    "collapsed": false
   },
   "outputs": [
    {
     "data": {
      "text/plain": [
       "\n",
       "  0   1 \n",
       "520 480 "
      ]
     },
     "metadata": {},
     "output_type": "display_data"
    }
   ],
   "source": [
    "table(data.rose$cls)"
   ]
  },
  {
   "cell_type": "markdown",
   "metadata": {},
   "source": [
    "Here we have totan N same as per original N"
   ]
  },
  {
   "cell_type": "markdown",
   "metadata": {},
   "source": [
    "We will now compute accuracy using data sets from all 4 techniques to see which one works the best"
   ]
  },
  {
   "cell_type": "code",
   "execution_count": 42,
   "metadata": {
    "collapsed": true
   },
   "outputs": [],
   "source": [
    "tree.rose <- tune.rpart(cls~., data=data.rose, minsplit=c(5,200,5), minbucket=c(5,200,5),\n",
    "                     maxdepth = c(1,30,2))"
   ]
  },
  {
   "cell_type": "code",
   "execution_count": 43,
   "metadata": {
    "collapsed": false
   },
   "outputs": [
    {
     "data": {
      "text/plain": [
       "\n",
       "Parameter tuning of ‘rpart.wrapper’:\n",
       "\n",
       "- sampling method: 10-fold cross validation \n",
       "\n",
       "- best parameters:\n",
       " minsplit minbucket maxdepth\n",
       "        5         5       30\n",
       "\n",
       "- best performance: 0.109 \n",
       "\n",
       "- Detailed performance results:\n",
       "   minsplit minbucket maxdepth error dispersion\n",
       "1         5         5        1 0.206 0.03717825\n",
       "2       200         5        1 0.206 0.03717825\n",
       "3         5         5        1 0.206 0.03717825\n",
       "4         5       200        1 0.206 0.03717825\n",
       "5       200       200        1 0.206 0.03717825\n",
       "6         5       200        1 0.206 0.03717825\n",
       "7         5         5        1 0.206 0.03717825\n",
       "8       200         5        1 0.206 0.03717825\n",
       "9         5         5        1 0.206 0.03717825\n",
       "10        5         5       30 0.109 0.03381321\n",
       "11      200         5       30 0.109 0.03381321\n",
       "12        5         5       30 0.109 0.03381321\n",
       "13        5       200       30 0.206 0.03717825\n",
       "14      200       200       30 0.206 0.03717825\n",
       "15        5       200       30 0.206 0.03717825\n",
       "16        5         5       30 0.109 0.03381321\n",
       "17      200         5       30 0.109 0.03381321\n",
       "18        5         5       30 0.109 0.03381321\n",
       "19        5         5        2 0.183 0.03497618\n",
       "20      200         5        2 0.183 0.03497618\n",
       "21        5         5        2 0.183 0.03497618\n",
       "22        5       200        2 0.206 0.03717825\n",
       "23      200       200        2 0.206 0.03717825\n",
       "24        5       200        2 0.206 0.03717825\n",
       "25        5         5        2 0.183 0.03497618\n",
       "26      200         5        2 0.183 0.03497618\n",
       "27        5         5        2 0.183 0.03497618\n"
      ]
     },
     "metadata": {},
     "output_type": "display_data"
    }
   ],
   "source": [
    "summary(tree.rose)"
   ]
  },
  {
   "cell_type": "code",
   "execution_count": 44,
   "metadata": {
    "collapsed": true
   },
   "outputs": [],
   "source": [
    "tree.rosef <- rpart(cls~., data=data.rose, minsplit=5, minbucket=5,maxdepth = 30)"
   ]
  },
  {
   "cell_type": "code",
   "execution_count": 45,
   "metadata": {
    "collapsed": true
   },
   "outputs": [],
   "source": [
    "tree.over <- tune.rpart(cls~., data=data_balanced_over, minsplit=c(5,200,5),\n",
    "                        minbucket=c(5,200,5), maxdepth = c(1,30,2))"
   ]
  },
  {
   "cell_type": "code",
   "execution_count": 46,
   "metadata": {
    "collapsed": false
   },
   "outputs": [
    {
     "data": {
      "text/plain": [
       "\n",
       "Parameter tuning of ‘rpart.wrapper’:\n",
       "\n",
       "- sampling method: 10-fold cross validation \n",
       "\n",
       "- best parameters:\n",
       " minsplit minbucket maxdepth\n",
       "        5         5       30\n",
       "\n",
       "- best performance: 0.01071429 \n",
       "\n",
       "- Detailed performance results:\n",
       "   minsplit minbucket maxdepth      error  dispersion\n",
       "1         5         5        1 0.14234694 0.025954186\n",
       "2       200         5        1 0.14234694 0.025954186\n",
       "3         5         5        1 0.14234694 0.025954186\n",
       "4         5       200        1 0.14234694 0.025954186\n",
       "5       200       200        1 0.14234694 0.025954186\n",
       "6         5       200        1 0.14234694 0.025954186\n",
       "7         5         5        1 0.14234694 0.025954186\n",
       "8       200         5        1 0.14234694 0.025954186\n",
       "9         5         5        1 0.14234694 0.025954186\n",
       "10        5         5       30 0.01071429 0.006564714\n",
       "11      200         5       30 0.01071429 0.006564714\n",
       "12        5         5       30 0.01071429 0.006564714\n",
       "13        5       200       30 0.14234694 0.025954186\n",
       "14      200       200       30 0.14234694 0.025954186\n",
       "15        5       200       30 0.14234694 0.025954186\n",
       "16        5         5       30 0.01071429 0.006564714\n",
       "17      200         5       30 0.01071429 0.006564714\n",
       "18        5         5       30 0.01071429 0.006564714\n",
       "19        5         5        2 0.08724490 0.017583751\n",
       "20      200         5        2 0.08724490 0.017583751\n",
       "21        5         5        2 0.08724490 0.017583751\n",
       "22        5       200        2 0.14234694 0.025954186\n",
       "23      200       200        2 0.14234694 0.025954186\n",
       "24        5       200        2 0.14234694 0.025954186\n",
       "25        5         5        2 0.08724490 0.017583751\n",
       "26      200         5        2 0.08724490 0.017583751\n",
       "27        5         5        2 0.08724490 0.017583751\n"
      ]
     },
     "metadata": {},
     "output_type": "display_data"
    }
   ],
   "source": [
    "summary(tree.over)"
   ]
  },
  {
   "cell_type": "code",
   "execution_count": 47,
   "metadata": {
    "collapsed": true
   },
   "outputs": [],
   "source": [
    "tree.overf <- rpart(cls~., data=data_balanced_over, minsplit=5, minbucket=5,maxdepth = 30)"
   ]
  },
  {
   "cell_type": "code",
   "execution_count": 48,
   "metadata": {
    "collapsed": true
   },
   "outputs": [],
   "source": [
    "tree.under <- tune.rpart(cls~., data=data_balanced_under, minsplit=c(5,200,5),\n",
    "                        minbucket=c(5,200,5), maxdepth = c(1,30,2))"
   ]
  },
  {
   "cell_type": "code",
   "execution_count": 49,
   "metadata": {
    "collapsed": false
   },
   "outputs": [
    {
     "data": {
      "text/plain": [
       "\n",
       "Parameter tuning of ‘rpart.wrapper’:\n",
       "\n",
       "- sampling method: 10-fold cross validation \n",
       "\n",
       "- best parameters:\n",
       " minsplit minbucket maxdepth\n",
       "        5         5        1\n",
       "\n",
       "- best performance: 0.3 \n",
       "\n",
       "- Detailed performance results:\n",
       "   minsplit minbucket maxdepth error dispersion\n",
       "1         5         5        1 0.300  0.1581139\n",
       "2       200         5        1 0.800  0.1581139\n",
       "3         5         5        1 0.300  0.1581139\n",
       "4         5       200        1 0.800  0.1581139\n",
       "5       200       200        1 0.800  0.1581139\n",
       "6         5       200        1 0.800  0.1581139\n",
       "7         5         5        1 0.300  0.1581139\n",
       "8       200         5        1 0.800  0.1581139\n",
       "9         5         5        1 0.300  0.1581139\n",
       "10        5         5       30 0.325  0.2371708\n",
       "11      200         5       30 0.800  0.1581139\n",
       "12        5         5       30 0.325  0.2371708\n",
       "13        5       200       30 0.800  0.1581139\n",
       "14      200       200       30 0.800  0.1581139\n",
       "15        5       200       30 0.800  0.1581139\n",
       "16        5         5       30 0.325  0.2371708\n",
       "17      200         5       30 0.800  0.1581139\n",
       "18        5         5       30 0.325  0.2371708\n",
       "19        5         5        2 0.325  0.2371708\n",
       "20      200         5        2 0.800  0.1581139\n",
       "21        5         5        2 0.325  0.2371708\n",
       "22        5       200        2 0.800  0.1581139\n",
       "23      200       200        2 0.800  0.1581139\n",
       "24        5       200        2 0.800  0.1581139\n",
       "25        5         5        2 0.325  0.2371708\n",
       "26      200         5        2 0.800  0.1581139\n",
       "27        5         5        2 0.325  0.2371708\n"
      ]
     },
     "metadata": {},
     "output_type": "display_data"
    }
   ],
   "source": [
    "summary(tree.under)"
   ]
  },
  {
   "cell_type": "code",
   "execution_count": 50,
   "metadata": {
    "collapsed": true
   },
   "outputs": [],
   "source": [
    "tree.underf <- rpart(cls~., data=data_balanced_under, minsplit=5, minbucket=5,maxdepth = 1)"
   ]
  },
  {
   "cell_type": "code",
   "execution_count": 52,
   "metadata": {
    "collapsed": false
   },
   "outputs": [],
   "source": [
    "tree.both <- tune.rpart(cls~., data=data_balanced_both, minsplit=c(5,200,5),\n",
    "                        minbucket=c(5,200,5), maxdepth = c(1,30,2))"
   ]
  },
  {
   "cell_type": "code",
   "execution_count": 53,
   "metadata": {
    "collapsed": false
   },
   "outputs": [
    {
     "data": {
      "text/plain": [
       "\n",
       "Parameter tuning of ‘rpart.wrapper’:\n",
       "\n",
       "- sampling method: 10-fold cross validation \n",
       "\n",
       "- best parameters:\n",
       " minsplit minbucket maxdepth\n",
       "        5         5       30\n",
       "\n",
       "- best performance: 0.006 \n",
       "\n",
       "- Detailed performance results:\n",
       "   minsplit minbucket maxdepth error  dispersion\n",
       "1         5         5        1 0.145 0.027182511\n",
       "2       200         5        1 0.145 0.027182511\n",
       "3         5         5        1 0.145 0.027182511\n",
       "4         5       200        1 0.145 0.027182511\n",
       "5       200       200        1 0.145 0.027182511\n",
       "6         5       200        1 0.145 0.027182511\n",
       "7         5         5        1 0.145 0.027182511\n",
       "8       200         5        1 0.145 0.027182511\n",
       "9         5         5        1 0.145 0.027182511\n",
       "10        5         5       30 0.006 0.006992059\n",
       "11      200         5       30 0.052 0.022997584\n",
       "12        5         5       30 0.006 0.006992059\n",
       "13        5       200       30 0.145 0.027182511\n",
       "14      200       200       30 0.145 0.027182511\n",
       "15        5       200       30 0.145 0.027182511\n",
       "16        5         5       30 0.006 0.006992059\n",
       "17      200         5       30 0.052 0.022997584\n",
       "18        5         5       30 0.006 0.006992059\n",
       "19        5         5        2 0.094 0.014298407\n",
       "20      200         5        2 0.094 0.014298407\n",
       "21        5         5        2 0.094 0.014298407\n",
       "22        5       200        2 0.145 0.027182511\n",
       "23      200       200        2 0.145 0.027182511\n",
       "24        5       200        2 0.145 0.027182511\n",
       "25        5         5        2 0.094 0.014298407\n",
       "26      200         5        2 0.094 0.014298407\n",
       "27        5         5        2 0.094 0.014298407\n"
      ]
     },
     "metadata": {},
     "output_type": "display_data"
    }
   ],
   "source": [
    "summary(tree.both)"
   ]
  },
  {
   "cell_type": "code",
   "execution_count": 54,
   "metadata": {
    "collapsed": true
   },
   "outputs": [],
   "source": [
    "tree.bothf <- rpart(cls~., data=data_balanced_both, minsplit=5, minbucket=5,maxdepth = 30)"
   ]
  },
  {
   "cell_type": "code",
   "execution_count": 55,
   "metadata": {
    "collapsed": true
   },
   "outputs": [],
   "source": [
    "#Make Predictions on test data\n",
    "pred.tree.rose <- predict(tree.rosef, newdata=hacide.test)\n",
    "pred.tree.over <- predict(tree.overf, newdata=hacide.test)\n",
    "pred.tree.under <- predict(tree.underf, newdata=hacide.test)\n",
    "pred.tree.both <- predict(tree.bothf, newdata=hacide.test)\n"
   ]
  },
  {
   "cell_type": "markdown",
   "metadata": {},
   "source": [
    "Checking AUC of all 4 data"
   ]
  },
  {
   "cell_type": "code",
   "execution_count": 56,
   "metadata": {
    "collapsed": false
   },
   "outputs": [
    {
     "data": {
      "text/plain": [
       "Area under the curve (AUC): 0.989"
      ]
     },
     "metadata": {},
     "output_type": "display_data"
    },
    {
     "data": {
      "image/png": "[encoded data removed]",
      "text/plain": [
       "Plot with title “ROC curve”"
      ]
     },
     "metadata": {},
     "output_type": "display_data"
    }
   ],
   "source": [
    "roc.curve(hacide.test$cls, pred.tree.rose[,2])"
   ]
  },
  {
   "cell_type": "code",
   "execution_count": 57,
   "metadata": {
    "collapsed": false
   },
   "outputs": [
    {
     "data": {
      "text/plain": [
       "Area under the curve (AUC): 0.798"
      ]
     },
     "metadata": {},
     "output_type": "display_data"
    },
    {
     "data": {
      "image/png": "[encoded data removed]",
      "text/plain": [
       "Plot with title “ROC curve”"
      ]
     },
     "metadata": {},
     "output_type": "display_data"
    }
   ],
   "source": [
    "roc.curve(hacide.test$cls, pred.tree.over[,2])"
   ]
  },
  {
   "cell_type": "code",
   "execution_count": 58,
   "metadata": {
    "collapsed": false
   },
   "outputs": [
    {
     "data": {
      "text/plain": [
       "Area under the curve (AUC): 0.867"
      ]
     },
     "metadata": {},
     "output_type": "display_data"
    },
    {
     "data": {
      "image/png": "[encoded data removed]",
      "text/plain": [
       "Plot with title “ROC curve”"
      ]
     },
     "metadata": {},
     "output_type": "display_data"
    }
   ],
   "source": [
    "roc.curve(hacide.test$cls, pred.tree.under[,2])"
   ]
  },
  {
   "cell_type": "code",
   "execution_count": 59,
   "metadata": {
    "collapsed": false
   },
   "outputs": [
    {
     "data": {
      "text/plain": [
       "Area under the curve (AUC): 0.798"
      ]
     },
     "metadata": {},
     "output_type": "display_data"
    },
    {
     "data": {
      "image/png": "[encoded data removed]",
      "text/plain": [
       "Plot with title “ROC curve”"
      ]
     },
     "metadata": {},
     "output_type": "display_data"
    }
   ],
   "source": [
    "roc.curve(hacide.test$cls, pred.tree.both[,2])"
   ]
  },
  {
   "cell_type": "markdown",
   "metadata": {},
   "source": [
    "Hence highest ROC was got by using ROSE generated data."
   ]
  }
 ],
 "metadata": {
  "anaconda-cloud": {},
  "kernelspec": {
   "display_name": "R [conda env:my-r-env]",
   "language": "R",
   "name": "conda-env-my-r-env-r"
  },
  "language_info": {
   "codemirror_mode": "r",
   "file_extension": ".r",
   "mimetype": "text/x-r-source",
   "name": "R",
   "pygments_lexer": "r",
   "version": "3.3.2"
  }
 },
 "nbformat": 4,
 "nbformat_minor": 1
}
